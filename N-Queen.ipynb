{
 "cells": [
  {
   "cell_type": "code",
   "execution_count": 31,
   "metadata": {},
   "outputs": [
    {
     "name": "stdout",
     "output_type": "stream",
     "text": [
      "2\n",
      "4\n",
      "92\n",
      "724\n",
      "14200\n"
     ]
    }
   ],
   "source": [
    "def attack(board_col,row,col):\n",
    "    for i in range(col):\n",
    "        if abs(col-i)==abs(board_col[i]-row):\n",
    "            return True\n",
    "        if board_col[i]==row:\n",
    "            return True\n",
    "    return False\n",
    "                \n",
    "def nqueen(board_col,n,col):\n",
    "    global count\n",
    "    for row in range(n):\n",
    "        if attack(board_col,row,col)==False:\n",
    "            board_col[col]=row\n",
    "            if col+1==n:\n",
    "                #print(board_col)\n",
    "                count+=1\n",
    "            else:\n",
    "                nqueen(board_col,n,col+1)\n",
    "\n",
    "for n in [4,6,8,10,12]:\n",
    "    board_col = [0 for i in range(n)]\n",
    "    count=0\n",
    "    nqueen(board_col,n,0)\n",
    "    print(count)"
   ]
  }
 ],
 "metadata": {
  "kernelspec": {
   "display_name": "Python 3",
   "language": "python",
   "name": "python3"
  },
  "language_info": {
   "codemirror_mode": {
    "name": "ipython",
    "version": 3
   },
   "file_extension": ".py",
   "mimetype": "text/x-python",
   "name": "python",
   "nbconvert_exporter": "python",
   "pygments_lexer": "ipython3",
   "version": "3.7.4"
  },
  "toc": {
   "base_numbering": 1,
   "nav_menu": {},
   "number_sections": true,
   "sideBar": true,
   "skip_h1_title": false,
   "title_cell": "Table of Contents",
   "title_sidebar": "Contents",
   "toc_cell": false,
   "toc_position": {},
   "toc_section_display": true,
   "toc_window_display": false
  }
 },
 "nbformat": 4,
 "nbformat_minor": 2
}
